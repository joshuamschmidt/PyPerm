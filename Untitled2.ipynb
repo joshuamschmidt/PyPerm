{
 "cells": [
  {
   "cell_type": "code",
   "execution_count": 1,
   "id": "wired-trinity",
   "metadata": {},
   "outputs": [],
   "source": [
    "import PySetPerm as psp"
   ]
  },
  {
   "cell_type": "code",
   "execution_count": 2,
   "id": "dense-robert",
   "metadata": {},
   "outputs": [],
   "source": [
    "features = psp.Features('data/genes.txt',2000)\n",
    "annotations = psp.AnnotationSet('data/kegg.txt',features.features_user_def,5)"
   ]
  },
  {
   "cell_type": "code",
   "execution_count": 3,
   "id": "falling-monte",
   "metadata": {},
   "outputs": [],
   "source": [
    "eastern_input = psp.Input('data/eastern_candidates.txt','data/eastern_background.txt.gz',features.features_user_def,annotations.annotation_array)"
   ]
  },
  {
   "cell_type": "code",
   "execution_count": null,
   "id": "documentary-canal",
   "metadata": {},
   "outputs": [],
   "source": [
    "eastern_permutations = psp.Permutation(eastern_input.background_features, eastern_input.n_candidates,100000,8)"
   ]
  },
  {
   "cell_type": "code",
   "execution_count": 28,
   "id": "inappropriate-blend",
   "metadata": {},
   "outputs": [],
   "source": [
    "eastern_n_set_per_perm = psp.SetPerPerm(eastern_permutations.permutations, annotations.annotation_array,8)"
   ]
  },
  {
   "cell_type": "code",
   "execution_count": 24,
   "id": "essential-barrier",
   "metadata": {},
   "outputs": [
    {
     "data": {
      "text/plain": [
       "array([ 4,  0,  0,  1,  6,  4,  0,  2,  1,  2,  0,  1,  1,  0,  1,  4,  1,\n",
       "        0,  9,  0,  3,  2,  3,  2,  2,  7,  3,  0,  0,  0,  0,  0,  0,  2,\n",
       "        1,  2,  3,  2,  6,  4,  6,  2,  7,  1,  1,  0,  2,  2,  3, 13,  7,\n",
       "        6,  6,  1,  6,  2,  0,  0,  0,  6,  1,  1,  2,  2,  0,  1,  1,  2,\n",
       "        1,  0,  0,  0,  0,  1,  0,  0,  1,  3,  1,  3,  0,  1,  3, 36, 28,\n",
       "       14,  3,  2,  3, 30,  3,  7,  4,  2,  3, 25,  4,  0,  1, 44,  5, 14,\n",
       "        2,  2,  0,  1,  1,  7,  2, 10,  0,  9,  3, 10,  1,  8, 68,  5, 15,\n",
       "        2,  3,  2,  7,  1,  6, 12,  2,  3,  1,  2,  1,  0, 25,  6, 13, 15,\n",
       "       13, 10, 14, 10,  6, 27,  5, 10,  4,  9,  3, 10,  5,  6,  8, 13, 12,\n",
       "       15, 13, 18,  3,  5,  5,  3,  7, 36,  1,  2, 96,  0,  1,  6,  8,  4,\n",
       "       17,  6,  2, 43, 10, 20,  9,  8,  4,  3,  0,  2,  6,  7, 11, 15,  6,\n",
       "        6,  3,  1,  2, 12,  5, 11,  6,  4,  1, 16,  6, 10, 17,  6,  8,  5,\n",
       "        6,  2,  5,  4,  1,  5, 11,  4,  2,  4,  6,  4,  7,  5, 11, 10, 11,\n",
       "        5,  8,  8,  6,  7,  4,  2, 12, 13,  6,  4,  7, 10, 11,  9,  9,  7,\n",
       "        9,  4,  5,  3,  0,  4, 14, 30,  9,  6,  4,  3,  5,  6,  2,  4,  5,\n",
       "       10,  7, 11,  6,  2,  1, 11,  6,  8,  6,  9,  6, 11,  6,  9, 10, 10,\n",
       "        1,  2,  5,  4,  3,  1,  1,  4,  2,  3,  4,  5,  2,  4,  4,  2,  3,\n",
       "       12,  8,  3,  9, 13,  3,  3,  6,  9,  6,  9,  5,  2,  3, 14, 13, 12,\n",
       "        1,  1,  9,  6,  4,  2,  1, 10,  5,  1,  4,  9,  9,  9, 12,  8, 15,\n",
       "       13,  7, 12, 15, 15, 18,  7, 12,  0, 10, 11,  2,  2,  3,  3,  3,  6,\n",
       "        0,  0,  2,  0,  3,  5,  2,  5,  3,  5,  4,  5, 10,  9,  2,  2,  5,\n",
       "        3,  3,  2,  1,  2, 12, 14, 11,  4,  5], dtype=uint16)"
      ]
     },
     "execution_count": 24,
     "metadata": {},
     "output_type": "execute_result"
    }
   ],
   "source": []
  },
  {
   "cell_type": "code",
   "execution_count": null,
   "id": "offshore-supplement",
   "metadata": {},
   "outputs": [],
   "source": [
    "eastern_results = psp.make_results_table(eastern_input.candidate_features,annotations.annotation_sets,annotations.annotation_array_ids,)"
   ]
  }
 ],
 "metadata": {
  "kernelspec": {
   "display_name": "pypermr",
   "language": "python",
   "name": "pypermr"
  },
  "language_info": {
   "codemirror_mode": {
    "name": "ipython",
    "version": 3
   },
   "file_extension": ".py",
   "mimetype": "text/x-python",
   "name": "python",
   "nbconvert_exporter": "python",
   "pygments_lexer": "ipython3",
   "version": "3.7.9"
  },
  "toc": {
   "base_numbering": 1,
   "nav_menu": {},
   "number_sections": false,
   "sideBar": false,
   "skip_h1_title": false,
   "title_cell": "Table of Contents",
   "title_sidebar": "Contents",
   "toc_cell": false,
   "toc_position": {},
   "toc_section_display": false,
   "toc_window_display": false
  }
 },
 "nbformat": 4,
 "nbformat_minor": 5
}
