{
 "cells": [
  {
   "cell_type": "code",
   "execution_count": 1,
   "id": "satisfactory-resident",
   "metadata": {},
   "outputs": [],
   "source": [
    "import PySetPerm as psp"
   ]
  },
  {
   "cell_type": "code",
   "execution_count": 3,
   "id": "specific-frontier",
   "metadata": {},
   "outputs": [],
   "source": [
    "features = psp.Features('data/genes.txt',2000)\n",
    "annotations = psp.AnnotationSet('data/kegg.txt',features.features_user_def,5)"
   ]
  },
  {
   "cell_type": "code",
   "execution_count": 5,
   "id": "contemporary-confirmation",
   "metadata": {},
   "outputs": [],
   "source": [
    "eastern_input = psp.Input('data/eastern_candidates.txt','data/eastern_background.txt.gz',features.features_user_def,annotations.annotation_array)"
   ]
  },
  {
   "cell_type": "code",
   "execution_count": 6,
   "id": "favorite-bruce",
   "metadata": {},
   "outputs": [],
   "source": [
    "eastern_permutations = psp.Permutation(eastern_input.background_features, eastern_input.n_candidates,100000,8)"
   ]
  },
  {
   "cell_type": "code",
   "execution_count": 7,
   "id": "first-monitor",
   "metadata": {},
   "outputs": [],
   "source": [
    "eastern_n_set_per_perm = psp.SetPerPerm(eastern_permutations.permutations, annotations.annotation_array,8)"
   ]
  },
  {
   "cell_type": "code",
   "execution_count": 8,
   "id": "celtic-lawyer",
   "metadata": {},
   "outputs": [
    {
     "data": {
      "text/plain": [
       "array([[ 2,  3,  2, ..., 12,  4,  7],\n",
       "       [ 0,  2,  0, ..., 10,  4,  6],\n",
       "       [ 2,  1,  1, ...,  7,  3,  5],\n",
       "       ...,\n",
       "       [ 3,  0,  1, ..., 12,  4,  5],\n",
       "       [ 1,  1,  1, ...,  9,  4,  7],\n",
       "       [ 0,  1,  0, ..., 10,  2,  4]], dtype=uint16)"
      ]
     },
     "execution_count": 8,
     "metadata": {},
     "output_type": "execute_result"
    }
   ],
   "source": [
    "eastern_results = psp.make_results_table(eastern_input.candidate_features,annotations.annotation_sets,annotations.annotation_array_ids,)"
   ]
  },
  {
   "cell_type": "code",
   "execution_count": null,
   "id": "injured-milwaukee",
   "metadata": {},
   "outputs": [],
   "source": []
  }
 ],
 "metadata": {
  "kernelspec": {
   "display_name": "pypermr",
   "language": "python",
   "name": "pypermr"
  },
  "language_info": {
   "codemirror_mode": {
    "name": "ipython",
    "version": 3
   },
   "file_extension": ".py",
   "mimetype": "text/x-python",
   "name": "python",
   "nbconvert_exporter": "python",
   "pygments_lexer": "ipython3",
   "version": "3.7.9"
  },
  "toc": {
   "base_numbering": 1,
   "nav_menu": {},
   "number_sections": false,
   "sideBar": false,
   "skip_h1_title": false,
   "title_cell": "Table of Contents",
   "title_sidebar": "Contents",
   "toc_cell": false,
   "toc_position": {},
   "toc_section_display": false,
   "toc_window_display": false
  }
 },
 "nbformat": 4,
 "nbformat_minor": 5
}
