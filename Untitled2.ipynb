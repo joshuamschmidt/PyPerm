{
 "cells": [
  {
   "cell_type": "code",
   "execution_count": 9,
   "id": "surprised-simulation",
   "metadata": {},
   "outputs": [],
   "source": [
    "import PySetPerm as psp\n",
    "import numpy as np\n",
    "import pandas as pd"
   ]
  },
  {
   "cell_type": "code",
   "execution_count": 2,
   "id": "growing-excitement",
   "metadata": {},
   "outputs": [],
   "source": [
    "features = psp.Features('data/genes.txt',2000)\n",
    "annotations = psp.AnnotationSet('data/kegg.txt',features.features_user_def,5)"
   ]
  },
  {
   "cell_type": "code",
   "execution_count": 3,
   "id": "activated-defeat",
   "metadata": {},
   "outputs": [],
   "source": [
    "eastern_input = psp.Input('data/eastern_candidates.txt','data/eastern_background.txt.gz',features.features_user_def,annotations.annotation_array)"
   ]
  },
  {
   "cell_type": "code",
   "execution_count": 4,
   "id": "visible-wings",
   "metadata": {},
   "outputs": [],
   "source": [
    "eastern_permutations = psp.Permutation(eastern_input.background_features, eastern_input.n_candidates,100000,8)"
   ]
  },
  {
   "cell_type": "code",
   "execution_count": 5,
   "id": "adequate-background",
   "metadata": {},
   "outputs": [],
   "source": [
    "eastern_n_set_per_perm = psp.SetPerPerm(eastern_permutations.permutations, annotations.annotation_array,8, eastern_input.n_candidate_per_function)"
   ]
  },
  {
   "cell_type": "code",
   "execution_count": 11,
   "id": "connected-update",
   "metadata": {},
   "outputs": [],
   "source": [
    "def make_results_table(cand_features,annotations,set_per_perm ):\n",
    "    cand_set=set(cand_features['feature'].values)\n",
    "    cand_genes_in_sets = annotations.annotation_sets.groupby('id')['feature'].apply(lambda x: np.unique(list(set(x).intersection(cand_set))))\n",
    "    cand_genes_in_sets = pd.DataFrame(cand_genes_in_sets[pd.Index(annotations.annotation_array_ids)])\n",
    "    cand_genes_in_sets = cand_genes_in_sets.reset_index(level=['id'])\n",
    "    cand_genes_in_sets.columns = ['id','candidate_features']\n",
    "    n_genes_in_sets = pd.DataFrame(annotations.annotation_sets.groupby(['id','name'])['feature'].nunique()[annotations.annotation_array_ids])\n",
    "    n_genes_in_sets = n_genes_in_sets.reset_index(level=['id', 'name'])\n",
    "    out=n_genes_in_sets.join(cand_genes_in_sets.set_index('id'),on='id')\n",
    "    out['n_candidates_in_set'] = [len(l) for l in out['candidate_features']]\n",
    "    out['mean_permutation_n'] = set_per_perm.mean_per_set\n",
    "    out_col_names = out.columns.values\n",
    "    out_col_names[2] = 'feature_set_n'\n",
    "    out.columns = out_col_names\n",
    "    out['emp_p_e'] = set_per_perm.p_enrichment\n",
    "    out['emp_p_d'] = set_per_perm.p_depletion\n",
    "    out['fdr_e'] = psp.fdr_from_p_matrix(set_per_perm.setNperPerm,out['emp_p_e'],method='enrichment')\n",
    "    out['fdr_d'] = psp.fdr_from_p_matrix(set_per_perm.setNperPerm,out['emp_p_d'],method='depletion')\n",
    "    out['BH_fdr_e'] = p_adjust_bh(out['emp_p_e'])\n",
    "    out['BH_fdr_d'] = p_adjust_bh(out['emp_p_d'])\n",
    "    out = out.sort_values('emp_p_e')\n",
    "    return(out)"
   ]
  },
  {
   "cell_type": "code",
   "execution_count": 12,
   "id": "unauthorized-minnesota",
   "metadata": {},
   "outputs": [
    {
     "ename": "NameError",
     "evalue": "name 'n_per_set' is not defined",
     "output_type": "error",
     "traceback": [
      "\u001b[0;31m---------------------------------------------------------------------------\u001b[0m",
      "\u001b[0;31mNameError\u001b[0m                                 Traceback (most recent call last)",
      "\u001b[0;32m<ipython-input-12-f69b6c2e7460>\u001b[0m in \u001b[0;36m<module>\u001b[0;34m\u001b[0m\n\u001b[0;32m----> 1\u001b[0;31m \u001b[0meastern_results\u001b[0m \u001b[0;34m=\u001b[0m \u001b[0mmake_results_table\u001b[0m\u001b[0;34m(\u001b[0m\u001b[0meastern_input\u001b[0m\u001b[0;34m.\u001b[0m\u001b[0mcandidate_features\u001b[0m\u001b[0;34m,\u001b[0m\u001b[0mannotations\u001b[0m\u001b[0;34m,\u001b[0m\u001b[0meastern_n_set_per_perm\u001b[0m\u001b[0;34m)\u001b[0m\u001b[0;34m\u001b[0m\u001b[0;34m\u001b[0m\u001b[0m\n\u001b[0m",
      "\u001b[0;32m<ipython-input-11-8905ad3a448d>\u001b[0m in \u001b[0;36mmake_results_table\u001b[0;34m(cand_features, annotations, set_per_perm)\u001b[0m\n\u001b[1;32m     15\u001b[0m     \u001b[0mout\u001b[0m\u001b[0;34m[\u001b[0m\u001b[0;34m'emp_p_e'\u001b[0m\u001b[0;34m]\u001b[0m \u001b[0;34m=\u001b[0m \u001b[0mset_per_perm\u001b[0m\u001b[0;34m.\u001b[0m\u001b[0mp_enrichment\u001b[0m\u001b[0;34m\u001b[0m\u001b[0;34m\u001b[0m\u001b[0m\n\u001b[1;32m     16\u001b[0m     \u001b[0mout\u001b[0m\u001b[0;34m[\u001b[0m\u001b[0;34m'emp_p_d'\u001b[0m\u001b[0;34m]\u001b[0m \u001b[0;34m=\u001b[0m \u001b[0mset_per_perm\u001b[0m\u001b[0;34m.\u001b[0m\u001b[0mp_depletion\u001b[0m\u001b[0;34m\u001b[0m\u001b[0;34m\u001b[0m\u001b[0m\n\u001b[0;32m---> 17\u001b[0;31m     \u001b[0mout\u001b[0m\u001b[0;34m[\u001b[0m\u001b[0;34m'fdr_e'\u001b[0m\u001b[0;34m]\u001b[0m \u001b[0;34m=\u001b[0m \u001b[0mpsp\u001b[0m\u001b[0;34m.\u001b[0m\u001b[0mfdr_from_p_matrix\u001b[0m\u001b[0;34m(\u001b[0m\u001b[0mset_per_perm\u001b[0m\u001b[0;34m.\u001b[0m\u001b[0msetNperPerm\u001b[0m\u001b[0;34m,\u001b[0m\u001b[0mout\u001b[0m\u001b[0;34m[\u001b[0m\u001b[0;34m'emp_p_e'\u001b[0m\u001b[0;34m]\u001b[0m\u001b[0;34m,\u001b[0m\u001b[0mmethod\u001b[0m\u001b[0;34m=\u001b[0m\u001b[0;34m'enrichment'\u001b[0m\u001b[0;34m)\u001b[0m\u001b[0;34m\u001b[0m\u001b[0;34m\u001b[0m\u001b[0m\n\u001b[0m\u001b[1;32m     18\u001b[0m     \u001b[0mout\u001b[0m\u001b[0;34m[\u001b[0m\u001b[0;34m'fdr_d'\u001b[0m\u001b[0;34m]\u001b[0m \u001b[0;34m=\u001b[0m \u001b[0mpsp\u001b[0m\u001b[0;34m.\u001b[0m\u001b[0mfdr_from_p_matrix\u001b[0m\u001b[0;34m(\u001b[0m\u001b[0mset_per_perm\u001b[0m\u001b[0;34m.\u001b[0m\u001b[0msetNperPerm\u001b[0m\u001b[0;34m,\u001b[0m\u001b[0mout\u001b[0m\u001b[0;34m[\u001b[0m\u001b[0;34m'emp_p_d'\u001b[0m\u001b[0;34m]\u001b[0m\u001b[0;34m,\u001b[0m\u001b[0mmethod\u001b[0m\u001b[0;34m=\u001b[0m\u001b[0;34m'depletion'\u001b[0m\u001b[0;34m)\u001b[0m\u001b[0;34m\u001b[0m\u001b[0;34m\u001b[0m\u001b[0m\n\u001b[1;32m     19\u001b[0m     \u001b[0mout\u001b[0m\u001b[0;34m[\u001b[0m\u001b[0;34m'BH_fdr_e'\u001b[0m\u001b[0;34m]\u001b[0m \u001b[0;34m=\u001b[0m \u001b[0mp_adjust_bh\u001b[0m\u001b[0;34m(\u001b[0m\u001b[0mout\u001b[0m\u001b[0;34m[\u001b[0m\u001b[0;34m'emp_p_e'\u001b[0m\u001b[0;34m]\u001b[0m\u001b[0;34m)\u001b[0m\u001b[0;34m\u001b[0m\u001b[0;34m\u001b[0m\u001b[0m\n",
      "\u001b[0;32m~/Projects/PySetPerm/PySetPerm.py\u001b[0m in \u001b[0;36mfdr_from_p_matrix\u001b[0;34m(perm_n_per_set, obs_p, method)\u001b[0m\n\u001b[1;32m    116\u001b[0m \u001b[0;34m\u001b[0m\u001b[0m\n\u001b[1;32m    117\u001b[0m \u001b[0;32mdef\u001b[0m \u001b[0mfdr_from_p_matrix\u001b[0m\u001b[0;34m(\u001b[0m\u001b[0mperm_n_per_set\u001b[0m\u001b[0;34m,\u001b[0m\u001b[0mobs_p\u001b[0m\u001b[0;34m,\u001b[0m\u001b[0mmethod\u001b[0m\u001b[0;34m=\u001b[0m\u001b[0;34m'enrichment'\u001b[0m\u001b[0;34m)\u001b[0m\u001b[0;34m:\u001b[0m\u001b[0;34m\u001b[0m\u001b[0;34m\u001b[0m\u001b[0m\n\u001b[0;32m--> 118\u001b[0;31m     \u001b[0mp_matrix\u001b[0m\u001b[0;34m=\u001b[0m\u001b[0mperm_p_matrix\u001b[0m\u001b[0;34m(\u001b[0m\u001b[0mperm_n_per_set\u001b[0m\u001b[0;34m,\u001b[0m\u001b[0mmethod\u001b[0m\u001b[0;34m)\u001b[0m\u001b[0;34m\u001b[0m\u001b[0;34m\u001b[0m\u001b[0m\n\u001b[0m\u001b[1;32m    119\u001b[0m     \u001b[0mobs_p_arr\u001b[0m \u001b[0;34m=\u001b[0m \u001b[0mnp\u001b[0m\u001b[0;34m.\u001b[0m\u001b[0masarray\u001b[0m\u001b[0;34m(\u001b[0m\u001b[0mobs_p\u001b[0m\u001b[0;34m)\u001b[0m\u001b[0;34m\u001b[0m\u001b[0;34m\u001b[0m\u001b[0m\n\u001b[1;32m    120\u001b[0m     \u001b[0mn_perm\u001b[0m \u001b[0;34m=\u001b[0m \u001b[0mp_matrix\u001b[0m\u001b[0;34m.\u001b[0m\u001b[0mshape\u001b[0m\u001b[0;34m[\u001b[0m\u001b[0;36m0\u001b[0m\u001b[0;34m]\u001b[0m\u001b[0;34m\u001b[0m\u001b[0;34m\u001b[0m\u001b[0m\n",
      "\u001b[0;32m~/Projects/PySetPerm/PySetPerm.py\u001b[0m in \u001b[0;36mperm_p_matrix\u001b[0;34m(perm_n_per_set, method)\u001b[0m\n\u001b[1;32m    265\u001b[0m         \u001b[0mmethod_int\u001b[0m \u001b[0;34m=\u001b[0m \u001b[0;34m-\u001b[0m\u001b[0;36m1\u001b[0m\u001b[0;34m\u001b[0m\u001b[0;34m\u001b[0m\u001b[0m\n\u001b[1;32m    266\u001b[0m     \u001b[0;32mfor\u001b[0m \u001b[0mi\u001b[0m \u001b[0;32min\u001b[0m \u001b[0mrange\u001b[0m\u001b[0;34m(\u001b[0m\u001b[0mn_sets\u001b[0m\u001b[0;34m)\u001b[0m\u001b[0;34m:\u001b[0m\u001b[0;34m\u001b[0m\u001b[0;34m\u001b[0m\u001b[0m\n\u001b[0;32m--> 267\u001b[0;31m         \u001b[0mout\u001b[0m\u001b[0;34m[\u001b[0m\u001b[0;34m:\u001b[0m\u001b[0;34m,\u001b[0m\u001b[0mi\u001b[0m\u001b[0;34m]\u001b[0m\u001b[0;34m=\u001b[0m\u001b[0mrankdata\u001b[0m\u001b[0;34m(\u001b[0m\u001b[0mmethod_int\u001b[0m\u001b[0;34m*\u001b[0m\u001b[0mn_per_set\u001b[0m\u001b[0;34m[\u001b[0m\u001b[0;34m:\u001b[0m\u001b[0;34m,\u001b[0m\u001b[0mi\u001b[0m\u001b[0;34m]\u001b[0m\u001b[0;34m,\u001b[0m\u001b[0mmethod\u001b[0m\u001b[0;34m=\u001b[0m\u001b[0;34m'max'\u001b[0m\u001b[0;34m)\u001b[0m\u001b[0;34m/\u001b[0m\u001b[0mn_perms\u001b[0m\u001b[0;34m\u001b[0m\u001b[0;34m\u001b[0m\u001b[0m\n\u001b[0m\u001b[1;32m    268\u001b[0m     \u001b[0;32mreturn\u001b[0m\u001b[0;34m(\u001b[0m\u001b[0mout\u001b[0m\u001b[0;34m)\u001b[0m\u001b[0;34m\u001b[0m\u001b[0;34m\u001b[0m\u001b[0m\n\u001b[1;32m    269\u001b[0m \u001b[0;34m\u001b[0m\u001b[0m\n",
      "\u001b[0;31mNameError\u001b[0m: name 'n_per_set' is not defined"
     ]
    }
   ],
   "source": [
    "eastern_results = make_results_table(eastern_input.candidate_features,annotations,eastern_n_set_per_perm)"
   ]
  },
  {
   "cell_type": "code",
   "execution_count": null,
   "id": "threaded-genetics",
   "metadata": {},
   "outputs": [],
   "source": []
  }
 ],
 "metadata": {
  "kernelspec": {
   "display_name": "pypermr",
   "language": "python",
   "name": "pypermr"
  },
  "language_info": {
   "codemirror_mode": {
    "name": "ipython",
    "version": 3
   },
   "file_extension": ".py",
   "mimetype": "text/x-python",
   "name": "python",
   "nbconvert_exporter": "python",
   "pygments_lexer": "ipython3",
   "version": "3.7.9"
  },
  "toc": {
   "base_numbering": 1,
   "nav_menu": {},
   "number_sections": false,
   "sideBar": false,
   "skip_h1_title": false,
   "title_cell": "Table of Contents",
   "title_sidebar": "Contents",
   "toc_cell": false,
   "toc_position": {},
   "toc_section_display": false,
   "toc_window_display": false
  }
 },
 "nbformat": 4,
 "nbformat_minor": 5
}
